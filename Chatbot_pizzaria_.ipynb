{
  "nbformat": 4,
  "nbformat_minor": 0,
  "metadata": {
    "colab": {
      "provenance": [],
      "authorship_tag": "ABX9TyNXuZbCmowNFX8gyWfwal6p",
      "include_colab_link": true
    },
    "kernelspec": {
      "name": "python3",
      "display_name": "Python 3"
    },
    "language_info": {
      "name": "python"
    }
  },
  "cells": [
    {
      "cell_type": "markdown",
      "metadata": {
        "id": "view-in-github",
        "colab_type": "text"
      },
      "source": [
        "<a href=\"https://colab.research.google.com/github/AdrielyZBoller/Chatbot-pizzaria/blob/main/Chatbot_pizzaria_.ipynb\" target=\"_parent\"><img src=\"https://colab.research.google.com/assets/colab-badge.svg\" alt=\"Open In Colab\"/></a>"
      ]
    },
    {
      "cell_type": "markdown",
      "source": [
        "# **Chatbot Pizzaria**"
      ],
      "metadata": {
        "id": "yB9nNLPJh7gS"
      }
    },
    {
      "cell_type": "markdown",
      "source": [
        "Projeto realizado durante o módulo de Lógica de Programação I do curso Vem ser Tech da ADA Tech em parceria com o Ifood."
      ],
      "metadata": {
        "id": "yQqSqzJtiHXv"
      }
    },
    {
      "cell_type": "markdown",
      "source": [
        "**Função Principal**"
      ],
      "metadata": {
        "id": "HbYcNBnJiyBf"
      }
    },
    {
      "cell_type": "code",
      "source": [
        "def main():\n",
        "  \"\"\"\n",
        "    Função principal para interagir com o cliente e fazer pedidos de pizza.\n",
        "\n",
        "    Inicia uma conversa com o cliente para fazer pedidos de pizza. Permite ao\n",
        "    cliente escolher entre fazer um pedido ou encerrar o chat.\n",
        "    Se o cliente escolher fazer um pedido, o cardápio´de pizzas é exibido.\n",
        "    No final o resumo do pedido é calculado e exibido.\n",
        "  \"\"\"\n",
        "  pedido = []\n",
        "  total_pedido = []\n",
        "\n",
        "  print('- - - - -> Pizzaria Avenida <- - - - -')\n",
        "  print('Bem-vindo(a) ao chat da pizzaria Avenida')\n",
        "\n",
        "  pergunta = \"Deseja fazer um pedido? [S]/[N]\\t\"\n",
        "  resp_continuar = validacao_respostas(pergunta, ['S', 'N', 'Sim', 'Não'])\n",
        "\n",
        "  if resp_continuar == 'S'or resp_continuar == \"Sim\":\n",
        "    lista_de_pizzas(cardapio)\n",
        "    pergunta_2 = \"\"\"Deseja pedir uma pizza?\n",
        "Digite Sair caso deseje para encerrar o chat \"\"\"\n",
        "    resp_continuar_2 = validacao_respostas(pergunta_2, ['S', 'N', 'Sair', 'Sim', 'Não'])\n",
        "    fazer_pedido(resp_continuar_2, cardapio, pedido, total_pedido)\n",
        "    calcular_pedido(pedido, total_pedido)\n",
        "\n",
        "  else:\n",
        "    print('Sistema encerrado')\n",
        "    print('Pizzaria Avenida agradece seu contato.')\n"
      ],
      "metadata": {
        "id": "hWGGEuUpiyfc"
      },
      "execution_count": null,
      "outputs": []
    },
    {
      "cell_type": "markdown",
      "source": [
        "**Funções**\n",
        "\n",
        "*Validação de respostas*"
      ],
      "metadata": {
        "id": "0-ytX7a9jFhk"
      }
    },
    {
      "cell_type": "code",
      "source": [
        "def validacao_respostas(pergunta, respostas_validas):\n",
        "  \"\"\"\n",
        "  Validação de respostas. A função valida respostas de um caracter\n",
        "  É passado como parâmetro:\n",
        "    - A pergunta que se quer fazer (str)\n",
        "    - Uma lista com as respostas válidas\n",
        "\n",
        "  Caso o usuário digite algo diferente das respostas válidas,\n",
        "  a função repetirá a pergunta até que o usuário responda um valor válido.\n",
        "  E só retornará opções válidas de valores\n",
        "  \"\"\"\n",
        "  resp = input(pergunta).title()# apenas 1ªletra\n",
        "  while not resp in respostas_validas:\n",
        "    print(\"Resposta inválida!\")\n",
        "    resp = input(pergunta).title()# apenas 1ªletra\n",
        "  return resp"
      ],
      "metadata": {
        "id": "osQrwEoYjQ7P"
      },
      "execution_count": null,
      "outputs": []
    },
    {
      "cell_type": "markdown",
      "source": [
        "*Função para gerar pedido*"
      ],
      "metadata": {
        "id": "xYWBdz8ejRhf"
      }
    },
    {
      "cell_type": "code",
      "source": [
        "def fazer_pedido(resp_continuar_2, cardapio, pedido, total_pedido):\n",
        "\n",
        "  \"\"\"\n",
        "    Permite que um cliente faça pedidos de pizzas a partir de um cardápio.\n",
        "\n",
        "    Parâmetros:\n",
        "\n",
        "    resp_continuar_2 (str): A resposta do cliente para continuar fazendo pedidos\n",
        "    (\"S\" ou \"Sim\" para continuar, \"N\" ou \"Não\" para sair).\n",
        "    cardapio (list): Uma lista de listas contendo as opções de pizza disponíveis\n",
        "    e seus preços.\n",
        "    pedido (list): Uma lista para armazenar o pedido do cliente.\n",
        "    total_pedido (list): Uma lista para armazenar os valores das\n",
        "    pizzas pedidas.\n",
        "  \"\"\"\n",
        "\n",
        "  continuar_while = True\n",
        "  while continuar_while and resp_continuar_2 == \"S\" or resp_continuar_2 == \"Sim\":\n",
        "    # Imprimir cardapio\n",
        "    pizza_pedida = input('Qual pizza deseja pedir? ').title()\n",
        "    pizza_existe = False\n",
        "\n",
        "    for pizza in cardapio:\n",
        "      if pizza_pedida == pizza[0]:\n",
        "        pedido.append(pizza[0])\n",
        "        total_pedido.append(pizza[1])\n",
        "\n",
        "        print(f'O valor da pizza de {pizza[0]} é de {pizza[1]}')\n",
        "        pergunta_2 = \"\"\"Deseja pedir outra pizza?\n",
        "Digite Sair caso deseje para encerrar o chat \"\"\"\n",
        "        resp_continuar_2 = validacao_respostas(pergunta_2, ['S', 'N', 'Sair', 'Sim', 'Não', 'Nao'])\n",
        "\n",
        "        pizza_existe = True\n",
        "        break\n",
        "\n",
        "    if not pizza_existe:\n",
        "\n",
        "      if pizza_pedida == 'Sair':\n",
        "        continuar_while = False\n",
        "\n",
        "      else:\n",
        "        print('Infelizmente não temos essa pizza.')\n",
        "        pergunta_2 = \"\"\"Deseja pedir outra pizza?\n",
        "Digite Sair caso deseje para encerrar o chat \"\"\"\n",
        "        resp_continuar_2 = validacao_respostas(pergunta_2, ['S', 'N', 'Sair', 'Sim', 'Não', 'Nao'])\n",
        "\n",
        "  return pedido, total_pedido"
      ],
      "metadata": {
        "id": "ngZNAh5rjat5"
      },
      "execution_count": null,
      "outputs": []
    },
    {
      "cell_type": "markdown",
      "source": [
        "*Calcular o pedido*"
      ],
      "metadata": {
        "id": "KJVZ13ryjbWf"
      }
    },
    {
      "cell_type": "code",
      "source": [
        "def calcular_pedido(pedido, total_pedido):\n",
        "\n",
        "  \"\"\"\n",
        "    Calcula e exibe um resumo do pedido de pizzas, incluindo os tipos de pizzas\n",
        "    pedidas, suas quantidades e o valor total.\n",
        "\n",
        "    Parâmetros:\n",
        "\n",
        "    pedido (list): Uma lista contendo os tipos de pizzas pedidos pelo cliente.\n",
        "    total_pedido (list): Uma lista contendo os valores das pizzas no pedido.\n",
        "  \"\"\"\n",
        "\n",
        "\n",
        "  if (len(pedido)) > 0:\n",
        "    tipos_unicos = []\n",
        "    for tipo in pedido:\n",
        "        if tipo not in tipos_unicos:\n",
        "            tipos_unicos.append(tipo)\n",
        "    print('Foram pedidas as seguintes pizzas: \\t')\n",
        "\n",
        "    for tipo in tipos_unicos:\n",
        "        quantidade = pedido.count(tipo)\n",
        "\n",
        "        print(f\"{quantidade} de {tipo}\")\n",
        "\n",
        "\n",
        "\n",
        "    valor_pedido = sum(total_pedido)\n",
        "    print(f'E o total do pedido foi R$ {valor_pedido}.')\n",
        "    print('Pizzaria Avenida agradece seu pedido.')\n",
        "\n",
        "  else:\n",
        "    print('Nenhum pedido realizado.')\n",
        "    print('Pizzaria Avenida agradece seu contato.')"
      ],
      "metadata": {
        "id": "qGqIuG3Oji66"
      },
      "execution_count": null,
      "outputs": []
    },
    {
      "cell_type": "markdown",
      "source": [
        "*Gerar tabela com cardapio da pizzaria*"
      ],
      "metadata": {
        "id": "OwVGv5BgjjFG"
      }
    },
    {
      "cell_type": "code",
      "source": [
        "def lista_de_pizzas(cardapio):\n",
        "  \"\"\"\n",
        "    Apresenta o cardápio de pizzas com seus respectivos preços.\n",
        "\n",
        "    Parâmetros:\n",
        "    cardapio (list): Uma lista de listas contendo as opções de pizza\n",
        "    disponíveis e seus preços.\n",
        "   \"\"\"\n",
        "  string_10_espacos = '          '\n",
        "  print(cardapio[0][0],'     |',\n",
        "        cardapio[0][1], sep='')\n",
        "  print('-------------------')\n",
        "  for pizza_info in cardapio[1:]:\n",
        "        pizza, preco = pizza_info\n",
        "\n",
        "        print(pizza, string_10_espacos[len(pizza):] ,end='|')\n",
        "        print(preco, end='\\n')\n",
        "  print('\\n')"
      ],
      "metadata": {
        "id": "E4Ssmw_RjrG6"
      },
      "execution_count": null,
      "outputs": []
    },
    {
      "cell_type": "markdown",
      "source": [
        "**Rodando o código**"
      ],
      "metadata": {
        "id": "JJtuMpYUkJya"
      }
    },
    {
      "cell_type": "code",
      "source": [
        "cardapio = [['Pizzas', \"Preço\"],\n",
        "            [\"Calabresa\", 70.0],\n",
        "            [\"Pepperoni\", 80.0],\n",
        "             [\"Queijo\", 50.0]]\n",
        "main()\n"
      ],
      "metadata": {
        "id": "0cJ-UfYL0Imr",
        "colab": {
          "base_uri": "https://localhost:8080/"
        },
        "outputId": "57434e0f-f327-4a77-8b8c-4c256356c27a"
      },
      "execution_count": null,
      "outputs": [
        {
          "output_type": "stream",
          "name": "stdout",
          "text": [
            "- - - - -> Pizzaria Avenida <- - - - -\n",
            "Bem-vindo(a) ao chat da pizzaria Avenida\n",
            "Deseja fazer um pedido? [S]/[N]\ts\n",
            "Pizzas     |Preço\n",
            "-------------------\n",
            "Calabresa  |60.0\n",
            "Pepperoni  |80.0\n",
            "Queijo     |50.0\n",
            "\n",
            "\n",
            "Deseja pedir uma pizza? \n",
            "Digite Sair caso deseje para encerrar o chat s\n",
            "Qual pizza deseja pedir? queijo\n",
            "O valor da pizza de Queijo é de 50.0\n",
            "Deseja pedir outra pizza? \n",
            "Digite Sair caso deseje para encerrar o chat calabresa\n",
            "Resposta inválida!\n",
            "Deseja pedir outra pizza? \n",
            "Digite Sair caso deseje para encerrar o chat sim\n",
            "Qual pizza deseja pedir? calabresa\n",
            "O valor da pizza de Calabresa é de 60.0\n",
            "Deseja pedir outra pizza? \n",
            "Digite Sair caso deseje para encerrar o chat sim\n",
            "Qual pizza deseja pedir? pepperoni\n",
            "O valor da pizza de Pepperoni é de 80.0\n",
            "Deseja pedir outra pizza? \n",
            "Digite Sair caso deseje para encerrar o chat s\n",
            "Qual pizza deseja pedir? queijo\n",
            "O valor da pizza de Queijo é de 50.0\n",
            "Deseja pedir outra pizza? \n",
            "Digite Sair caso deseje para encerrar o chat sair\n",
            "Foram pedidas as seguintes pizzas: \t\n",
            "2 de Queijo\n",
            "1 de Calabresa\n",
            "1 de Pepperoni\n",
            "E o total do pedido foi R$ 240.0.\n",
            "Pizzaria Avenida agradece seu pedido.\n"
          ]
        }
      ]
    }
  ]
}